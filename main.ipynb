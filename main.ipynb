{
 "cells": [
  {
   "cell_type": "code",
   "execution_count": null,
   "metadata": {},
   "outputs": [],
   "source": [
    "import streamlit as st\n",
    "import pandas as pd\n",
    "import json"
   ]
  },
  {
   "cell_type": "markdown",
   "metadata": {},
   "source": [
    "Below, we split the excel file into a csv per sheet"
   ]
  },
  {
   "cell_type": "code",
   "execution_count": 1,
   "metadata": {},
   "outputs": [],
   "source": [
    "\n",
    "def export_excel_sheets_to_csv(excel_file):\n",
    "    # Read the Excel file\n",
    "    xls = pd.ExcelFile(excel_file)\n",
    "    \n",
    "    \n",
    "    # Iterate through each sheet in the Excel file\n",
    "    for sheet_name in xls.sheet_names:\n",
    "        # Read the sheet into a DataFrame\n",
    "        df = pd.read_excel(excel_file, sheet_name=sheet_name)\n",
    "        \n",
    "        # Define the CSV file name\n",
    "        csv_file = f\"{sheet_name}.csv\"\n",
    "        \n",
    "        # Export the DataFrame to CSV\n",
    "        df.to_csv(csv_file, index=False)\n",
    "        \n",
    "        print(f\"Exported {sheet_name} to {csv_file}\")\n",
    "\n",
    "# Example usage\n",
    "excel_file = \"Proof_Shops.xlsx\"  \n",
    "export_excel_sheets_to_csv(excel_file)\n"
   ]
  },
  {
   "cell_type": "code",
   "execution_count": 1,
   "metadata": {},
   "outputs": [
    {
     "name": "stdout",
     "output_type": "stream",
     "text": [
      "Requirement already satisfied: streamlit in c:\\users\\libellule\\anaconda3\\lib\\site-packages (1.28.1)\n",
      "Requirement already satisfied: requests<3,>=2.27 in c:\\users\\libellule\\anaconda3\\lib\\site-packages (from streamlit) (2.28.1)\n",
      "Requirement already satisfied: toml<2,>=0.10.1 in c:\\users\\libellule\\anaconda3\\lib\\site-packages (from streamlit) (0.10.2)\n",
      "Requirement already satisfied: python-dateutil<3,>=2.7.3 in c:\\users\\libellule\\anaconda3\\lib\\site-packages (from streamlit) (2.8.2)\n",
      "Requirement already satisfied: tenacity<9,>=8.1.0 in c:\\users\\libellule\\anaconda3\\lib\\site-packages (from streamlit) (8.2.3)\n",
      "Requirement already satisfied: click<9,>=7.0 in c:\\users\\libellule\\anaconda3\\lib\\site-packages (from streamlit) (8.0.4)\n",
      "Requirement already satisfied: validators<1,>=0.2 in c:\\users\\libellule\\anaconda3\\lib\\site-packages (from streamlit) (0.22.0)\n",
      "Requirement already satisfied: cachetools<6,>=4.0 in c:\\users\\libellule\\anaconda3\\lib\\site-packages (from streamlit) (5.3.2)\n",
      "Requirement already satisfied: rich<14,>=10.14.0 in c:\\users\\libellule\\anaconda3\\lib\\site-packages (from streamlit) (13.6.0)\n",
      "Requirement already satisfied: pydeck<1,>=0.8.0b4 in c:\\users\\libellule\\anaconda3\\lib\\site-packages (from streamlit) (0.8.1b0)\n",
      "Requirement already satisfied: pyarrow>=6.0 in c:\\users\\libellule\\anaconda3\\lib\\site-packages (from streamlit) (14.0.1)\n",
      "Requirement already satisfied: pandas<3,>=1.3.0 in c:\\users\\libellule\\anaconda3\\lib\\site-packages (from streamlit) (1.5.3)\n",
      "Requirement already satisfied: altair<6,>=4.0 in c:\\users\\libellule\\anaconda3\\lib\\site-packages (from streamlit) (5.1.2)\n",
      "Requirement already satisfied: typing-extensions<5,>=4.3.0 in c:\\users\\libellule\\anaconda3\\lib\\site-packages (from streamlit) (4.8.0)\n",
      "Requirement already satisfied: watchdog>=2.1.5 in c:\\users\\libellule\\anaconda3\\lib\\site-packages (from streamlit) (2.1.6)\n",
      "Requirement already satisfied: gitpython!=3.1.19,<4,>=3.0.7 in c:\\users\\libellule\\anaconda3\\lib\\site-packages (from streamlit) (3.1.40)\n",
      "Requirement already satisfied: protobuf<5,>=3.20 in c:\\users\\libellule\\anaconda3\\lib\\site-packages (from streamlit) (4.23.4)\n",
      "Requirement already satisfied: tornado<7,>=6.0.3 in c:\\users\\libellule\\anaconda3\\lib\\site-packages (from streamlit) (6.1)\n",
      "Requirement already satisfied: importlib-metadata<7,>=1.4 in c:\\users\\libellule\\anaconda3\\lib\\site-packages (from streamlit) (4.11.3)\n",
      "Requirement already satisfied: pillow<11,>=7.1.0 in c:\\users\\libellule\\anaconda3\\lib\\site-packages (from streamlit) (9.4.0)\n",
      "Requirement already satisfied: packaging<24,>=16.8 in c:\\users\\libellule\\anaconda3\\lib\\site-packages (from streamlit) (22.0)\n",
      "Requirement already satisfied: tzlocal<6,>=1.1 in c:\\users\\libellule\\anaconda3\\lib\\site-packages (from streamlit) (5.2)\n",
      "Requirement already satisfied: numpy<2,>=1.19.3 in c:\\users\\libellule\\anaconda3\\lib\\site-packages (from streamlit) (1.23.5)\n",
      "Requirement already satisfied: blinker<2,>=1.0.0 in c:\\users\\libellule\\anaconda3\\lib\\site-packages (from streamlit) (1.7.0)\n",
      "Requirement already satisfied: jsonschema>=3.0 in c:\\users\\libellule\\anaconda3\\lib\\site-packages (from altair<6,>=4.0->streamlit) (4.17.3)\n",
      "Requirement already satisfied: toolz in c:\\users\\libellule\\anaconda3\\lib\\site-packages (from altair<6,>=4.0->streamlit) (0.12.0)\n",
      "Requirement already satisfied: jinja2 in c:\\users\\libellule\\anaconda3\\lib\\site-packages (from altair<6,>=4.0->streamlit) (3.1.2)\n",
      "Requirement already satisfied: colorama in c:\\users\\libellule\\anaconda3\\lib\\site-packages (from click<9,>=7.0->streamlit) (0.4.6)\n",
      "Requirement already satisfied: gitdb<5,>=4.0.1 in c:\\users\\libellule\\anaconda3\\lib\\site-packages (from gitpython!=3.1.19,<4,>=3.0.7->streamlit) (4.0.11)\n",
      "Requirement already satisfied: zipp>=0.5 in c:\\users\\libellule\\anaconda3\\lib\\site-packages (from importlib-metadata<7,>=1.4->streamlit) (3.11.0)\n",
      "Requirement already satisfied: pytz>=2020.1 in c:\\users\\libellule\\anaconda3\\lib\\site-packages (from pandas<3,>=1.3.0->streamlit) (2022.7)\n",
      "Requirement already satisfied: six>=1.5 in c:\\users\\libellule\\anaconda3\\lib\\site-packages (from python-dateutil<3,>=2.7.3->streamlit) (1.16.0)\n",
      "Requirement already satisfied: certifi>=2017.4.17 in c:\\users\\libellule\\anaconda3\\lib\\site-packages (from requests<3,>=2.27->streamlit) (2023.7.22)\n",
      "Requirement already satisfied: urllib3<1.27,>=1.21.1 in c:\\users\\libellule\\anaconda3\\lib\\site-packages (from requests<3,>=2.27->streamlit) (1.26.14)\n",
      "Requirement already satisfied: idna<4,>=2.5 in c:\\users\\libellule\\anaconda3\\lib\\site-packages (from requests<3,>=2.27->streamlit) (3.4)\n",
      "Requirement already satisfied: charset-normalizer<3,>=2 in c:\\users\\libellule\\anaconda3\\lib\\site-packages (from requests<3,>=2.27->streamlit) (2.0.4)\n",
      "Requirement already satisfied: pygments<3.0.0,>=2.13.0 in c:\\users\\libellule\\anaconda3\\lib\\site-packages (from rich<14,>=10.14.0->streamlit) (2.16.1)\n",
      "Requirement already satisfied: markdown-it-py>=2.2.0 in c:\\users\\libellule\\anaconda3\\lib\\site-packages (from rich<14,>=10.14.0->streamlit) (3.0.0)\n",
      "Requirement already satisfied: tzdata in c:\\users\\libellule\\anaconda3\\lib\\site-packages (from tzlocal<6,>=1.1->streamlit) (2023.3)\n",
      "Requirement already satisfied: smmap<6,>=3.0.1 in c:\\users\\libellule\\anaconda3\\lib\\site-packages (from gitdb<5,>=4.0.1->gitpython!=3.1.19,<4,>=3.0.7->streamlit) (5.0.1)\n",
      "Requirement already satisfied: MarkupSafe>=2.0 in c:\\users\\libellule\\anaconda3\\lib\\site-packages (from jinja2->altair<6,>=4.0->streamlit) (2.1.1)\n",
      "Requirement already satisfied: pyrsistent!=0.17.0,!=0.17.1,!=0.17.2,>=0.14.0 in c:\\users\\libellule\\anaconda3\\lib\\site-packages (from jsonschema>=3.0->altair<6,>=4.0->streamlit) (0.18.0)\n",
      "Requirement already satisfied: attrs>=17.4.0 in c:\\users\\libellule\\anaconda3\\lib\\site-packages (from jsonschema>=3.0->altair<6,>=4.0->streamlit) (22.1.0)\n",
      "Requirement already satisfied: mdurl~=0.1 in c:\\users\\libellule\\anaconda3\\lib\\site-packages (from markdown-it-py>=2.2.0->rich<14,>=10.14.0->streamlit) (0.1.2)\n"
     ]
    }
   ],
   "source": [
    "! pip install streamlit "
   ]
  },
  {
   "cell_type": "code",
   "execution_count": 3,
   "metadata": {},
   "outputs": [
    {
     "data": {
      "text/html": [
       "<div>\n",
       "<style scoped>\n",
       "    .dataframe tbody tr th:only-of-type {\n",
       "        vertical-align: middle;\n",
       "    }\n",
       "\n",
       "    .dataframe tbody tr th {\n",
       "        vertical-align: top;\n",
       "    }\n",
       "\n",
       "    .dataframe thead th {\n",
       "        text-align: right;\n",
       "    }\n",
       "</style>\n",
       "<table border=\"1\" class=\"dataframe\">\n",
       "  <thead>\n",
       "    <tr style=\"text-align: right;\">\n",
       "      <th></th>\n",
       "      <th>List of shops</th>\n",
       "    </tr>\n",
       "  </thead>\n",
       "  <tbody>\n",
       "    <tr>\n",
       "      <th>0</th>\n",
       "      <td>Shop 1</td>\n",
       "    </tr>\n",
       "    <tr>\n",
       "      <th>1</th>\n",
       "      <td>Shop 2</td>\n",
       "    </tr>\n",
       "    <tr>\n",
       "      <th>2</th>\n",
       "      <td>Shop 3</td>\n",
       "    </tr>\n",
       "    <tr>\n",
       "      <th>3</th>\n",
       "      <td>Shop 4</td>\n",
       "    </tr>\n",
       "    <tr>\n",
       "      <th>4</th>\n",
       "      <td>Shop 5</td>\n",
       "    </tr>\n",
       "  </tbody>\n",
       "</table>\n",
       "</div>"
      ],
      "text/plain": [
       "  List of shops\n",
       "0        Shop 1\n",
       "1        Shop 2\n",
       "2        Shop 3\n",
       "3        Shop 4\n",
       "4        Shop 5"
      ]
     },
     "execution_count": 3,
     "metadata": {},
     "output_type": "execute_result"
    }
   ],
   "source": [
    "# Load shop list\n",
    "shop_list = pd.read_csv(\"List of Shops.csv\")\n",
    "shop_list.head()"
   ]
  },
  {
   "cell_type": "code",
   "execution_count": 28,
   "metadata": {},
   "outputs": [
    {
     "data": {
      "text/html": [
       "<div>\n",
       "<style scoped>\n",
       "    .dataframe tbody tr th:only-of-type {\n",
       "        vertical-align: middle;\n",
       "    }\n",
       "\n",
       "    .dataframe tbody tr th {\n",
       "        vertical-align: top;\n",
       "    }\n",
       "\n",
       "    .dataframe thead th {\n",
       "        text-align: right;\n",
       "    }\n",
       "</style>\n",
       "<table border=\"1\" class=\"dataframe\">\n",
       "  <thead>\n",
       "    <tr style=\"text-align: right;\">\n",
       "      <th></th>\n",
       "      <th>Main Product</th>\n",
       "      <th>Characteristic 1</th>\n",
       "      <th>Characteristic 2</th>\n",
       "      <th>Characteristic 3</th>\n",
       "      <th>Characteristic 4</th>\n",
       "      <th>Shop Name</th>\n",
       "    </tr>\n",
       "  </thead>\n",
       "  <tbody>\n",
       "    <tr>\n",
       "      <th>0</th>\n",
       "      <td>Espresso</td>\n",
       "      <td>Whole Milk</td>\n",
       "      <td>White Sugar</td>\n",
       "      <td>Vanilla</td>\n",
       "      <td>Whipped Cream</td>\n",
       "      <td>Shop 1</td>\n",
       "    </tr>\n",
       "    <tr>\n",
       "      <th>1</th>\n",
       "      <td>Americano</td>\n",
       "      <td>Skim Milk</td>\n",
       "      <td>Brown Sugar</td>\n",
       "      <td>Caramel</td>\n",
       "      <td>Cocoa Powder</td>\n",
       "      <td>Shop 1</td>\n",
       "    </tr>\n",
       "    <tr>\n",
       "      <th>2</th>\n",
       "      <td>Cappuccino</td>\n",
       "      <td>2% Milk (Reduced Fat)</td>\n",
       "      <td>Raw Sugar (like Turbinado or Demerara)</td>\n",
       "      <td>Hazelnut</td>\n",
       "      <td>Cinnamon</td>\n",
       "      <td>Shop 1</td>\n",
       "    </tr>\n",
       "    <tr>\n",
       "      <th>3</th>\n",
       "      <td>Latte</td>\n",
       "      <td>Soy Milk</td>\n",
       "      <td>Honey</td>\n",
       "      <td>Chocolate (or Mocha)</td>\n",
       "      <td>Nutmeg</td>\n",
       "      <td>Shop 1</td>\n",
       "    </tr>\n",
       "    <tr>\n",
       "      <th>4</th>\n",
       "      <td>Iced Coffee</td>\n",
       "      <td>Almond Milk</td>\n",
       "      <td>Agave Nectar</td>\n",
       "      <td>Peppermint</td>\n",
       "      <td>Chocolate Chips or Shavings</td>\n",
       "      <td>Shop 1</td>\n",
       "    </tr>\n",
       "  </tbody>\n",
       "</table>\n",
       "</div>"
      ],
      "text/plain": [
       "  Main Product       Characteristic 1                        Characteristic 2  \\\n",
       "0     Espresso             Whole Milk                             White Sugar   \n",
       "1    Americano              Skim Milk                             Brown Sugar   \n",
       "2   Cappuccino  2% Milk (Reduced Fat)  Raw Sugar (like Turbinado or Demerara)   \n",
       "3        Latte               Soy Milk                                   Honey   \n",
       "4  Iced Coffee            Almond Milk                            Agave Nectar   \n",
       "\n",
       "       Characteristic 3             Characteristic 4 Shop Name  \n",
       "0               Vanilla                Whipped Cream    Shop 1  \n",
       "1               Caramel                 Cocoa Powder    Shop 1  \n",
       "2              Hazelnut                     Cinnamon    Shop 1  \n",
       "3  Chocolate (or Mocha)                       Nutmeg    Shop 1  \n",
       "4            Peppermint  Chocolate Chips or Shavings    Shop 1  "
      ]
     },
     "execution_count": 28,
     "metadata": {},
     "output_type": "execute_result"
    }
   ],
   "source": [
    "products_df = pd.DataFrame()\n",
    "for i in range (1,6):    \n",
    "    df = pd.read_csv(f\"Shop {i}.csv\")\n",
    "    df['Shop Name'] = f\"Shop {i}\"\n",
    "    products_df = pd.concat([products_df, df])\n",
    "    # products_df['Shop Name'] = f\"Shop {i}\"\n",
    "    \n",
    "products_df.head()"
   ]
  },
  {
   "cell_type": "code",
   "execution_count": 236,
   "metadata": {},
   "outputs": [],
   "source": [
    "json_things = (products_df.groupby('Shop Name').apply(lambda x: x.to_json(orient='values')))\n"
   ]
  },
  {
   "cell_type": "code",
   "execution_count": 228,
   "metadata": {},
   "outputs": [],
   "source": [
    "jjj = json.loads(json_things[0])"
   ]
  },
  {
   "cell_type": "code",
   "execution_count": 229,
   "metadata": {},
   "outputs": [
    {
     "data": {
      "text/plain": [
       "['espresso', 'whole milk', 'white sugar', 'vanilla', 'whipped cream', 'shop 1']"
      ]
     },
     "execution_count": 229,
     "metadata": {},
     "output_type": "execute_result"
    }
   ],
   "source": [
    "jjj[0]"
   ]
  },
  {
   "cell_type": "code",
   "execution_count": 67,
   "metadata": {},
   "outputs": [
    {
     "data": {
      "text/plain": [
       "'[[\"Espresso\",\"Whole Milk\",\"White Sugar\",\"Vanilla\",\"Whipped Cream\",\"Shop 1\"],[\"Americano\",\"Skim Milk\",\"Brown Sugar\",\"Caramel\",\"Cocoa Powder\",\"Shop 1\"],[\"Cappuccino\",\"2% Milk (Reduced Fat)\",\"Raw Sugar (like Turbinado or Demerara)\",\"Hazelnut\",\"Cinnamon\",\"Shop 1\"],[\"Latte\",\"Soy Milk\",\"Honey\",\"Chocolate (or Mocha)\",\"Nutmeg\",\"Shop 1\"],[\"Iced Coffee\",\"Almond Milk\",\"Agave Nectar\",\"Peppermint\",\"Chocolate Chips or Shavings\",\"Shop 1\"],[\"Herbal Tea\",\"Oat Milk\",\"Stevia\",\"Almond\",\"Marshmallows\",\"Shop 1\"],[\"Black Tea\",\"Coconut Milk\",\"Splenda (Sucralose)\",\"Cinnamon\",\"Honey\",\"Shop 1\"],[\"Green Tea\",\"Rice Milk\",\"Equal (Aspartame)\",\"Pumpkin Spice\",\"Vanilla Extract\",\"Shop 1\"],[\"Hot Chocolate\",\"Cashew Milk\",\"Saccharin (Sweet\\'N Low)\",\"Irish Cream\",\"Mocha Sauce\",\"Shop 1\"],[null,\"Lactose-Free Milk\",\"Monk Fruit Sweetener\",\"Raspberry\",\"Caramel Drizzle\",\"Shop 1\"],[null,\"Hemp Milk\",\"Maple Syrup\",\"Toasted Marshmallow\",\"Ice\",\"Shop 1\"],[null,\"Pea Milk\",\"Cane Sugar\",\"Gingerbread\",\"Protein Powder\",\"Shop 1\"],[null,\"Goat Milk\",\"Coconut Sugar\",\"Coconut\",\"Coconut Oil or MCT Oil\",\"Shop 1\"],[null,\"Macadamia Milk\",\"Erythritol\",\"Toffee Nut\",\"Collagen Powder\",\"Shop 1\"],[null,\"Flavored Milk (like chocolate or vanilla)\",\"Xylitol\",\"Butterscotch\",\"Chai Spice Mix\",\"Shop 1\"],[null,null,\"Maltodextrin\",\"Maple\",\"Lemon or Orange Zest\",\"Shop 1\"],[null,null,\"Date Sugar\",\"Amaretto\",\"Ginger\",\"Shop 1\"],[null,null,\"Molasses\",\"Chai Spice\",\"Peppermint Extract\",\"Shop 1\"],[null,null,\"Corn Syrup\",\"Lavender\",\"Maple Syrup\",\"Shop 1\"],[null,null,\"Fructose Crystals\",\"Honeycomb\",\"Sea Salt\",\"Shop 1\"]]'"
      ]
     },
     "execution_count": 67,
     "metadata": {},
     "output_type": "execute_result"
    }
   ],
   "source": [
    "json_things[0]"
   ]
  },
  {
   "cell_type": "code",
   "execution_count": 233,
   "metadata": {},
   "outputs": [],
   "source": [
    "\n",
    "def search_products (json_things, products):\n",
    "    \n",
    "    for i, shop in enumerate(json_things):\n",
    "        results = []\n",
    "        json_object = json.loads(shop)\n",
    "        # print(f\"{len(json_object)} Items found in Shop {i}. Matches with query:\")\n",
    "        for item in json_object:\n",
    "            \n",
    "            for thing in item:               \n",
    "                if thing in products:                            \n",
    "                    #    print (thing, \"\\n\") \n",
    "                       results.append(thing)\n",
    "        difference = len(list(set(products)-(set(results))))\n",
    "        if difference < 1:\n",
    "             print (f\"Found match for all products in Shop {i+1}\")\n",
    "        # print(len(list(set(products)-(set(results)))), \"\\n\")\n",
    "        # print ()"
   ]
  },
  {
   "cell_type": "code",
   "execution_count": 210,
   "metadata": {},
   "outputs": [],
   "source": [
    "products = ['Espresso', 'Whole Milk', 'Chai Spice', 'Vanilla', 'Whipped Cream', 'Coconut Oil or MCT Oil', 'Maple Syrup']\n"
   ]
  },
  {
   "cell_type": "code",
   "execution_count": 237,
   "metadata": {},
   "outputs": [
    {
     "name": "stdout",
     "output_type": "stream",
     "text": [
      "Found match for all products in Shop 1\n"
     ]
    }
   ],
   "source": [
    "search_products (json_things, products)"
   ]
  },
  {
   "cell_type": "code",
   "execution_count": 5,
   "metadata": {},
   "outputs": [
    {
     "name": "stderr",
     "output_type": "stream",
     "text": [
      "2024-03-21 05:48:56.021 \n",
      "  \u001b[33m\u001b[1mWarning:\u001b[0m to view this Streamlit app on a browser, run it with the following\n",
      "  command:\n",
      "\n",
      "    streamlit run c:\\Users\\Libellule\\anaconda3\\lib\\site-packages\\ipykernel_launcher.py [ARGUMENTS]\n"
     ]
    }
   ],
   "source": [
    "\n",
    "# Streamlit UI\n",
    "st.title(\"Coffee Shop Product Search\")\n",
    "\n",
    "# Input for products\n",
    "product_input = st.text_area(\"Enter the products separated by commas (e.g., Iced coffee, soy milk, agave nectar, honeycomb, protein powder):\")\n",
    "\n",
    "if st.button(\"Search\"):\n",
    "    products_input = [product.strip() for product in product_input.split(\",\")]\n",
    "    all_results = []\n",
    "    search_products(json_things, products_input)\n",
    "    \n"
   ]
  }
 ],
 "metadata": {
  "kernelspec": {
   "display_name": "base",
   "language": "python",
   "name": "python3"
  },
  "language_info": {
   "codemirror_mode": {
    "name": "ipython",
    "version": 3
   },
   "file_extension": ".py",
   "mimetype": "text/x-python",
   "name": "python",
   "nbconvert_exporter": "python",
   "pygments_lexer": "ipython3",
   "version": "3.10.9"
  }
 },
 "nbformat": 4,
 "nbformat_minor": 2
}
